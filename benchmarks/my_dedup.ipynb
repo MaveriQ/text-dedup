{
 "cells": [
  {
   "cell_type": "code",
   "execution_count": 14,
   "id": "91d0da74-e4f7-40a7-98eb-8b5fe2a99576",
   "metadata": {},
   "outputs": [],
   "source": [
    "from datasets import load_from_disk\n",
    "from text_dedup import bloom_filter, ccnet, minhash, simhash, exact_hash, suffix_array"
   ]
  },
  {
   "cell_type": "code",
   "execution_count": 9,
   "id": "692b8518-5b2c-4219-93c9-f8cfcd17485b",
   "metadata": {},
   "outputs": [],
   "source": [
    "ds_path = \"/home/haris/work/nlidb/datasets/stack_sql/\""
   ]
  },
  {
   "cell_type": "code",
   "execution_count": 10,
   "id": "f74adcbb-1099-4871-9082-3f643a70b434",
   "metadata": {},
   "outputs": [],
   "source": [
    "ds = load_from_disk(ds_path)"
   ]
  },
  {
   "cell_type": "code",
   "execution_count": 13,
   "id": "30bbe565-5657-43a0-b76e-511d4545b7bd",
   "metadata": {},
   "outputs": [
    {
     "data": {
      "text/plain": [
       "{'content': \"CREATE DATABASE IF NOT EXISTS testdb ;\\nUSE testdb;\\n\\nDROP TABLE IF EXISTS sign_product;\\nCREATE TABLE sign_product (\\n    id         BIGINT PRIMARY KEY      NOT NULL AUTO_INCREMENT,\\n    code       VARCHAR(32) DEFAULT ''  NOT NULL,\\n    full_name  VARCHAR(128) DEFAULT '' NOT NULL,\\n    inventory  INT DEFAULT 0           NOT NULL,\\n    gmt_create TIMESTAMP                        DEFAULT current_timestamp,\\n    gmt_update TIMESTAMP                        DEFAULT current_timestamp\\n    ON UPDATE current_timestamp\\n)\\n    ENGINE = InnoDB\\n    DEFAULT CHARSET = utf8mb4;\\n\\n\\nINSERT INTO sign_product  (code, full_name, inventory) VALUES ('893341', '远见产品3号', 12);\\nINSERT INTO sign_product  (code, full_name, inventory) VALUES ('213324', '这是测试产品', 543);\\nINSERT INTO sign_product  (code, full_name, inventory) VALUES ('123873', '正式环境产品53', 76);\\nINSERT INTO sign_product  (code, full_name, inventory) VALUES ('678567', '招商银行限量', 9765);\\n\\n\"}"
      ]
     },
     "execution_count": 13,
     "metadata": {},
     "output_type": "execute_result"
    }
   ],
   "source": [
    "ds[10]"
   ]
  },
  {
   "cell_type": "code",
   "execution_count": null,
   "id": "43bdd441-00d7-4230-812e-963d1072f38b",
   "metadata": {},
   "outputs": [],
   "source": []
  }
 ],
 "metadata": {
  "kernelspec": {
   "display_name": "Python 3 (ipykernel)",
   "language": "python",
   "name": "python3"
  },
  "language_info": {
   "codemirror_mode": {
    "name": "ipython",
    "version": 3
   },
   "file_extension": ".py",
   "mimetype": "text/x-python",
   "name": "python",
   "nbconvert_exporter": "python",
   "pygments_lexer": "ipython3",
   "version": "3.10.11"
  }
 },
 "nbformat": 4,
 "nbformat_minor": 5
}
